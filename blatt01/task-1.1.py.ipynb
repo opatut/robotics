{
 "cells": [
  {
   "cell_type": "code",
   "execution_count": 7,
   "metadata": {
    "collapsed": false
   },
   "outputs": [],
   "source": [
    "import numpy as np\n",
    "import math\n",
    "import transformations as t"
   ]
  },
  {
   "cell_type": "code",
   "execution_count": null,
   "metadata": {
    "collapsed": true
   },
   "outputs": [],
   "source": [
    "def latex_matrix(m):\n",
    "    return \"\\\\begin{pmatrix}\\n\" \\\n",
    "        + \"\\\\\\\\\\n\".join(\"    \" + \" & \".join(\"%.4f\" % item for item in row) for row in m) \\\n",
    "        + \"\\n\\\\end{pmatrix}\"\n",
    "\n",
    "def latex_vector(v, dim=3):\n",
    "    return \"\\\\begin{pmatrix}\" \\\n",
    "        + \" \\\\\\\\ \".join(\"%.4f\" % v[i] for i in range(dim)) \\\n",
    "        77+ \"\\\\end{pmatrix}\""
   ]
  },
  {
   "cell_type": "code",
   "execution_count": 77,
   "metadata": {
    "collapsed": false,
    "slideshow": {
     "slide_type": "-"
    }
   },
   "outputs": [
    {
     "name": "stdout",
     "output_type": "stream",
     "text": [
      "M_1 \\approx \\begin{pmatrix}\n",
      "    0.4356 & -0.7891 & -0.4330 & 0.0000\\\\\n",
      "    0.6124 & 0.6124 & -0.5000 & 0.0000\\\\\n",
      "    0.6597 & -0.0474 & 0.7500 & 0.0000\\\\\n",
      "    0.0000 & 0.0000 & 0.0000 & 1.0000\n",
      "\\end{pmatrix}\n",
      "\n",
      "A_1 \\approx \\begin{pmatrix}1.7678 \\\\ -6.1237 \\\\ -3.0619\\end{pmatrix},\n",
      "B_1 \\approx \\begin{pmatrix}6.1237 \\\\ -0.0000 \\\\ 3.5355\\end{pmatrix},\n",
      "C_1 \\approx \\begin{pmatrix}-1.7678 \\\\ 6.1237 \\\\ 3.0619\\end{pmatrix},\n",
      "D_1 \\approx \\begin{pmatrix}-6.1237 \\\\ 0.0000 \\\\ -3.5355\\end{pmatrix},\n",
      "E_1 \\approx \\begin{pmatrix}-12.9904 \\\\ -15.0000 \\\\ 22.5000\\end{pmatrix}\n",
      "\n",
      "M_2 \\approx \\begin{pmatrix}\n",
      "    0.7891 & -0.6124 & -0.0474 & 0.0000\\\\\n",
      "    0.4356 & 0.6124 & -0.6597 & 0.0000\\\\\n",
      "    0.4330 & 0.5000 & 0.7500 & 0.0000\\\\\n",
      "    0.0000 & 0.0000 & 0.0000 & 1.0000\n",
      "\\end{pmatrix}\n",
      "\n",
      "A_2 \\approx \\begin{pmatrix}-0.8839 \\\\ -5.2398 \\\\ -4.6651\\end{pmatrix},\n",
      "B_2 \\approx \\begin{pmatrix}7.0076 \\\\ -0.8839 \\\\ -0.3349\\end{pmatrix},\n",
      "C_2 \\approx \\begin{pmatrix}0.8839 \\\\ 5.2398 \\\\ 4.6651\\end{pmatrix},\n",
      "D_2 \\approx \\begin{pmatrix}-7.0076 \\\\ 0.8839 \\\\ 0.3349\\end{pmatrix},\n",
      "E_2 \\approx \\begin{pmatrix}-1.4210 \\\\ -19.7922 \\\\ 22.5000\\end{pmatrix}\n",
      "\n"
     ]
    }
   ],
   "source": [
    "R1 = t.rotation_matrix( 45 * math.pi / 180, [0, 0, 1])\n",
    "R2 = t.rotation_matrix( 30 * math.pi / 180, [1, 0, 0])\n",
    "R3 = t.rotation_matrix(-30 * math.pi / 180, [0, 1, 0])\n",
    "\n",
    "M1 = np.dot(np.dot(R3, R2), R1)\n",
    "M2 = np.dot(np.dot(R177, R2), R3)\n",
    "\n",
    "# there is also a short-way in this library\n",
    "# (notice the difference between 's'tatic and 'r'otating frame)\n",
    "#M1 = t.euler_matrix(45 * math.pi / 180, 30 * math.pi / 180, -30 * math.pi / 180, 'szxy')\n",
    "#M2 = t.euler_matrix(45 * math.pi / 180, 30 * math.pi / 180, -30 * math.pi / 180, 'rzxy')\n",
    "\n",
    "points = {\n",
    "    'A': [-5, -5, 0, 1],\n",
    "    'B': [5, -5, 0, 1],\n",
    "    'C': [5, 5, 0, 1],\n",
    "    'D': [-5, 5, 0, 1],\n",
    "    'E': [0, 0, 30, 1]\n",
    "}\n",
    "\n",
    "# transform the points using the matrices\n",
    "points1 = {l: np.dot(M1, point) for l, point in points.items()}\n",
    "points2 = {l: np.dot(M2, point) for l, point in points.items()}\n",
    "\n",
    "# output\n",
    "print(\"M_1 \\\\approx \" + latex_matrix(M1))\n",
    "print()\n",
    "print(\",\\n\".join(name + '_1 \\\\approx ' + latex_vector(v, 3)  for name, v in sorted(points1.items())))\n",
    "print()\n",
    "\n",
    "print(\"M_2 \\\\approx \" + latex_matrix(M2))\n",
    "print()\n",
    "print(\",\\n\".join(name + '_2 \\\\approx ' + latex_vector(v, 3)  for name, v in sorted(points2.items())))\n",
    "print()\n"
   ]
  },
  {
   "cell_type": "code",
   "execution_count": 89,
   "metadata": {
    "collapsed": false
   },
   "outputs": [
    {
     "name": "stdout",
     "output_type": "stream",
     "text": [
      "\n",
      "        \\draw[thin,dashed,color=gray] (0.0,0.0,0.0) -- (0.0,0.0,0);\n",
      "        \\draw[thick,->,color=black] (0.0,0.0,0.0) -- (2.0,0.0,0.0) node[anchor=south]{$x$};\n",
      "        \\draw[thick,->,color=black] (0.0,0.0,0.0) -- (0.0,2.0,0.0) node[anchor=south]{$y$};\n",
      "        \\draw[thick,->,color=black] (0.0,0.0,0.0) -- (0.0,0.0,2.0) node[anchor=south]{$z$};\n",
      "        \n",
      "\n",
      "        \\draw[thin,dashed,color=gray] (2.0,1.0,0.0) -- (2.0,1.0,0);\n",
      "        \\draw[thick,->,color=red] (2.0,1.0,0.0) -- (2.8660254037844384,1.5,0.0) node[anchor=south]{$x$};\n",
      "        \\draw[thick,->,color=red] (2.0,1.0,0.0) -- (1.5,1.8660254037844386,0.0) node[anchor=south]{$y$};\n",
      "        \\draw[thick,->,color=red] (2.0,1.0,0.0) -- (2.0,1.0,1.0) node[anchor=south]{$z$};\n",
      "        \n",
      "\n",
      "        \\draw[thin,dashed,color=gray] (1.0,1.0,0.0) -- (1.0,1.0,0);\n",
      "        \\draw[thick,->,color=green] (1.0,1.0,0.0) -- (1.7071067811865475,0.29289321881345254,0.0) node[anchor=south]{$x$};\n",
      "        \\draw[thick,->,color=green] (1.0,1.0,0.0) -- (1.7071067811865475,1.7071067811865475,0.0) node[anchor=south]{$y$};\n",
      "        \\draw[thick,->,color=green] (1.0,1.0,0.0) -- (1.0,1.0,1.0) node[anchor=south]{$z$};\n",
      "        \n",
      "\n",
      "        \\draw[thin,dashed,color=gray] (2.3660254037844384,2.3660254037844384,0.0) -- (2.3660254037844384,2.3660254037844384,0);\n",
      "        \\draw[thick,->,color=blue] (2.3660254037844384,2.3660254037844384,0.0) -- (3.3319512300735066,2.1072063586819176,0.0) node[anchor=south]{$x$};\n",
      "        \\draw[thick,->,color=blue] (2.3660254037844384,2.3660254037844384,0.0) -- (2.624844448886959,3.3319512300735066,0.0) node[anchor=south]{$y$};\n",
      "        \\draw[thick,->,color=blue] (2.3660254037844384,2.3660254037844384,0.0) -- (2.3660254037844384,2.3660254037844384,1.0) node[anchor=south]{$z$};\n",
      "        \n"
     ]
    }
   ],
   "source": [
    "\n",
    "def latex_axes(T, length=1, color=None):\n",
    "    m = np.dot(T, [0, 0, 0, 1])\n",
    "    px = np.dot(T, [length, 0, 0, 1])\n",
    "    py = np.dot(T, [0, length, 0, 1])\n",
    "    pz = np.dot(T, [0, 0, length, 1])\n",
    "    \n",
    "    cx = color or 'red'\n",
    "    cy = color or 'green'\n",
    "    cz = color or 'blue'\n",
    "    \n",
    "    def point(p):\n",
    "        return '({},{},{})'.format(*p)\n",
    "    \n",
    "    return '''\n",
    "        \\draw[thin,dashed,color=gray] {m} -- {m0};\n",
    "        \\draw[thick,->,color={cx}] {m} -- {px} node[anchor=south]{{$x$}};\n",
    "        \\draw[thick,->,color={cy}] {m} -- {py} node[anchor=south]{{$y$}};\n",
    "        \\draw[thick,->,color={cz}] {m} -- {pz} node[anchor=south]{{$z$}};\n",
    "        '''.format(\n",
    "            m=point(m), m0=point((m[0], m[1], 0)), px=point(px), py=point(py), pz=point(pz),\n",
    "            cx=cx, cy=cy, cz=cz\n",
    "        )\n",
    "\n",
    "T_i = t.identity_matrix()\n",
    "\n",
    "T_ab = [[math.sqrt(3)/2, -0.5, 0, 2],\n",
    "    [0.5, math.sqrt(3)/2, 0, 1],\n",
    "    [0, 0, 1, 0],\n",
    "    [0, 0, 0, 1]]\n",
    "\n",
    "T_bc = [[1/math.sqrt(2), 1/math.sqrt(2), 0, 1],\n",
    "    [-1/math.sqrt(2), 1/math.sqrt(2), 0, 1],\n",
    "    [0, 0, 1, 0],\n",
    "    [0, 0, 0, 1]]\n",
    "\n",
    "T_ac = np.dot(T_ab, T_bc)\n",
    "\n",
    "print(latex_axes(T_i, length=2, color=\"black\"))\n",
    "print(latex_axes(T_ab, color=\"red\"))\n",
    "print(latex_axes(T_bc, color=\"green\"))\n",
    "print(latex_axes(T_ac, color=\"blue\"))\n"
   ]
  },
  {
   "cell_type": "code",
   "execution_count": null,
   "metadata": {
    "collapsed": true
   },
   "outputs": [],
   "source": []
  }
 ],
 "metadata": {
  "kernelspec": {
   "display_name": "Python 3",
   "language": "python",
   "name": "python3"
  },
  "language_info": {
   "codemirror_mode": {
    "name": "ipython",
    "version": 3
   },
   "file_extension": ".py",
   "mimetype": "text/x-python",
   "name": "python",
   "nbconvert_exporter": "python",
   "pygments_lexer": "ipython3",
   "version": "3.4.3"
  }
 },
 "nbformat": 4,
 "nbformat_minor": 0
}
