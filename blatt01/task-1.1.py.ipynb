{
 "cells": [
  {
   "cell_type": "code",
   "execution_count": 7,
   "metadata": {
    "collapsed": false
   },
   "outputs": [],
   "source": [
    "import numpy as np\n",
    "import math\n",
    "import transformations as t"
   ]
  },
  {
   "cell_type": "code",
   "execution_count": null,
   "metadata": {
    "collapsed": true
   },
   "outputs": [],
   "source": [
    "def latex_matrix(m):\n",
    "    return \"\\\\begin{pmatrix}\\n\" \\\n",
    "        + \"\\\\\\\\\\n\".join(\"    \" + \" & \".join(\"%.4f\" % item for item in row) for row in m) \\\n",
    "        + \"\\n\\\\end{pmatrix}\"\n",
    "\n",
    "def latex_vector(v, dim=3):\n",
    "    return \"\\\\begin{pmatrix}\" \\\n",
    "        + \" \\\\\\\\ \".join(\"%.4f\" % v[i] for i in range(dim)) \\\n",
    "        77+ \"\\\\end{pmatrix}\""
   ]
  },
  {
   "cell_type": "code",
   "execution_count": 77,
   "metadata": {
    "collapsed": false,
    "slideshow": {
     "slide_type": "-"
    }
   },
   "outputs": [
    {
     "name": "stdout",
     "output_type": "stream",
     "text": [
      "M_1 \\approx \\begin{pmatrix}\n",
      "    0.4356 & -0.7891 & -0.4330 & 0.0000\\\\\n",
      "    0.6124 & 0.6124 & -0.5000 & 0.0000\\\\\n",
      "    0.6597 & -0.0474 & 0.7500 & 0.0000\\\\\n",
      "    0.0000 & 0.0000 & 0.0000 & 1.0000\n",
      "\\end{pmatrix}\n",
      "\n",
      "A_1 \\approx \\begin{pmatrix}1.7678 \\\\ -6.1237 \\\\ -3.0619\\end{pmatrix},\n",
      "B_1 \\approx \\begin{pmatrix}6.1237 \\\\ -0.0000 \\\\ 3.5355\\end{pmatrix},\n",
      "C_1 \\approx \\begin{pmatrix}-1.7678 \\\\ 6.1237 \\\\ 3.0619\\end{pmatrix},\n",
      "D_1 \\approx \\begin{pmatrix}-6.1237 \\\\ 0.0000 \\\\ -3.5355\\end{pmatrix},\n",
      "E_1 \\approx \\begin{pmatrix}-12.9904 \\\\ -15.0000 \\\\ 22.5000\\end{pmatrix}\n",
      "\n",
      "M_2 \\approx \\begin{pmatrix}\n",
      "    0.7891 & -0.6124 & -0.0474 & 0.0000\\\\\n",
      "    0.4356 & 0.6124 & -0.6597 & 0.0000\\\\\n",
      "    0.4330 & 0.5000 & 0.7500 & 0.0000\\\\\n",
      "    0.0000 & 0.0000 & 0.0000 & 1.0000\n",
      "\\end{pmatrix}\n",
      "\n",
      "A_2 \\approx \\begin{pmatrix}-0.8839 \\\\ -5.2398 \\\\ -4.6651\\end{pmatrix},\n",
      "B_2 \\approx \\begin{pmatrix}7.0076 \\\\ -0.8839 \\\\ -0.3349\\end{pmatrix},\n",
      "C_2 \\approx \\begin{pmatrix}0.8839 \\\\ 5.2398 \\\\ 4.6651\\end{pmatrix},\n",
      "D_2 \\approx \\begin{pmatrix}-7.0076 \\\\ 0.8839 \\\\ 0.3349\\end{pmatrix},\n",
      "E_2 \\approx \\begin{pmatrix}-1.4210 \\\\ -19.7922 \\\\ 22.5000\\end{pmatrix}\n",
      "\n"
     ]
    }
   ],
   "source": [
    "R1 = t.rotation_matrix( 45 * math.pi / 180, [0, 0, 1])\n",
    "R2 = t.rotation_matrix( 30 * math.pi / 180, [1, 0, 0])\n",
    "R3 = t.rotation_matrix(-30 * math.pi / 180, [0, 1, 0])\n",
    "77\n",
    "M1 = np.dot(np.dot(R3, R2), R1)\n",
    "M2 = np.dot(np.dot(R177, R2), R3)\n",
    "\n",
    "# there is also a short-way in this library\n",
    "# (notice the difference between 's'tatic and 'r'otating frame)\n",
    "#M1 = t.euler_matrix(45 * math.pi / 180, 30 * math.pi / 180, -30 * math.pi / 180, 'szxy')\n",
    "#M2 = t.euler_matrix(45 * math.pi / 180, 30 * math.pi / 180, -30 * math.pi / 180, 'rzxy')\n",
    "\n",
    "points = {\n",
    "    'A': [-5, -5, 0, 1],\n",
    "    'B': [5, -5, 0, 1],\n",
    "    'C': [5, 5, 0, 1],\n",
    "    'D': [-5, 5, 0, 1],\n",
    "    'E': [0, 0, 30, 1]\n",
    "}\n",
    "\n",
    "# transform the points using the matrices\n",
    "points1 = {l: np.dot(M1, point) for l, point in points.items()}\n",
    "points2 = {l: np.dot(M2, point) for l, point in points.items()}\n",
    "\n",
    "# output\n",
    "print(\"M_1 \\\\approx \" + latex_matrix(M1))\n",
    "print()\n",
    "print(\",\\n\".join(name + '_1 \\\\approx ' + latex_vector(v, 3)  for name, v in sorted(points1.items())))\n",
    "print()\n",
    "\n",
    "print(\"M_2 \\\\approx \" + latex_matrix(M2))\n",
    "print()\n",
    "print(\",\\n\".join(name + '_2 \\\\approx ' + latex_vector(v, 3)  for name, v in sorted(points2.items())))\n",
    "print()\n"
   ]
  },
  {
   "cell_type": "code",
   "execution_count": null,
   "metadata": {
    "collapsed": true
   },
   "outputs": [],
   "source": [
    "import matplotlib.pyplot as plt\n",
    "from mpl_toolkits.mplot3d import Axes3D\n",
    "fig = plt.figure()\n",
    "ax = fig.add_subplot(111, projection='3d')"
   ]
  }
 ],
 "metadata": {
  "kernelspec": {
   "display_name": "Python 3",
   "language": "python",
   "name": "python3"
  },
  "language_info": {
   "codemirror_mode": {
    "name": "ipython",
    "version": 3
   },
   "file_extension": ".py",
   "mimetype": "text/x-python",
   "name": "python",
   "nbconvert_exporter": "python",
   "pygments_lexer": "ipython3",
   "version": "3.4.3"
  }
 },
 "nbformat": 4,
 "nbformat_minor": 0
}
